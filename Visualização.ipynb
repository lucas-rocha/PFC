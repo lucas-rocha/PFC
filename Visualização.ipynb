{
 "cells": [
  {
   "cell_type": "markdown",
   "metadata": {},
   "source": [
    "# Selecionando ego e carregando as matrizes\n",
    "\n",
    "Matrizes  \n",
    "X: termos x documentos  \n",
    "U: termos x tópicos  \n",
    "V: tópicos x documetos  \n",
    "\n",
    "X = U * V"
   ]
  },
  {
   "cell_type": "code",
   "execution_count": 13,
   "metadata": {},
   "outputs": [],
   "source": [
    "import numpy as np\n",
    "from sklearn.feature_extraction.text import CountVectorizer\n",
    "\n",
    "ego = '40379006'\n",
    "\n",
    "folder_X = \"X/\"\n",
    "folder_U = \"U/\"\n",
    "folder_V = \"V/\"\n",
    "\n",
    "# Carregando matriz X\n",
    "file = folder_X + ego + '.txt'\n",
    "f = open(file, 'r')\n",
    "\n",
    "lines = f.readlines()\n",
    "f.close()\n",
    "\n",
    "n_documentos = len(lines[0].split())\n",
    "n_termos = len(lines)\n",
    "\n",
    "X = []\n",
    "\n",
    "for i in range(0, n_termos):\n",
    "    X.append([])\n",
    "    colunas = lines[i].split()\n",
    "    for j in range(0, n_documentos):\n",
    "        X[i].append(int(colunas[j]))\n",
    "\n",
    "X = np.array(X)\n",
    "\n",
    "# Carregando matriz U\n",
    "file = folder_U + ego + '.txt'\n",
    "f = open(file, 'r')\n",
    "\n",
    "lines = f.readlines()\n",
    "f.close()\n",
    "\n",
    "n_topicos = len(lines[0].split())\n",
    "\n",
    "U = []\n",
    "\n",
    "for i in range(0, n_termos):\n",
    "    U.append([])\n",
    "    colunas = lines[i].split()\n",
    "    for j in range(0, n_topicos):\n",
    "        U[i].append(float(colunas[j]))\n",
    "\n",
    "U = np.array(U)\n",
    "\n",
    "# Carregando matriz V\n",
    "file = folder_U + ego +'.txt'\n",
    "f = open(file, 'r')\n",
    "\n",
    "lines = f.readlines()\n",
    "f.close()\n",
    "\n",
    "U = []\n",
    "\n",
    "for i in range(0, n_termos):\n",
    "    U.append([])\n",
    "    colunas = lines[i].split()\n",
    "    for j in range(0, n_topicos):\n",
    "        U[i].append(float(colunas[j]))\n",
    "\n",
    "U = np.array(U)\n",
    "\n",
    "# Importanto dicionario de termos (mapeamento indice -> termo)\n",
    "import json\n",
    "file = 'Indices de Termos/' + ego + '.json'\n",
    "f = open(file, 'r')\n",
    "line = f.readline()\n",
    "f.close()\n",
    "dic_termos = json.loads(line)"
   ]
  },
  {
   "cell_type": "markdown",
   "metadata": {},
   "source": [
    "# Tópicos e termos\n",
    "\n",
    "Visualização dos Tópicos e seus K termos mais relevantes através da matriz U. "
   ]
  },
  {
   "cell_type": "code",
   "execution_count": 14,
   "metadata": {},
   "outputs": [
    {
     "name": "stdout",
     "output_type": "stream",
     "text": [
      "Tópico 0: ART  18286505  LAUGH  GOD  STAY  DON  5  MAN  LIFE  293200939  \n",
      "Tópico 1: IM  1  374209360  TIME  LAUGH  GOD  MAN  LOVE  ART  HUMBLE  \n",
      "Tópico 2: STRENGTH  2  TIME  VOICE  STAY  MAN  3  27  TEAM  GOOD  \n",
      "Tópico 3: 2  GOOD  JOY  SURPRISE  CALL  54121703  STRENGTH  LOL  MATTER  3  \n",
      "Tópico 4: JOY  2  GOOD  WISE  54121703  VOICE  FEEL  TRUE  THING  371467724  \n",
      "Tópico 5: SIT  THING  REALIZE  ORDINARY  TROUBLE  CHARACTER  FORGIVE  WISE  SOUL  ZIGLAR  \n",
      "Tópico 6: REALIZE  FEEL  SIN  GROW  WISE  LORD  WEIRD  MAKE  ENJOY  HOUSE  \n",
      "Tópico 7: MEET  SIN  CHARACTER  7  NICE  FAILURE  GROW  ENJOY  PERSON  UNDERSTAND  \n",
      "Tópico 8: PPL  SIN  LIFE  BACK  POINT  GROW  PEACE  PROTECT  BIRTH  DAY  \n",
      "Tópico 9: LIFE  KNOWLEDGE  FORGET  GOD  PROTECT  130681675  COMMIT  POINT  721941922990821376  PRAY  \n"
     ]
    }
   ],
   "source": [
    "K = 10\n",
    "Ut = U.T\n",
    "\n",
    "for topic, vector in enumerate(Ut):\n",
    "    termos = ''\n",
    "    aux = vector\n",
    "    for i in range(0,K):\n",
    "        #index = np.argmax(aux)\n",
    "        index = np.argmin(aux)\n",
    "        valor = aux[index]\n",
    "        aux = np.delete(aux, index)\n",
    "        valor = list(vector).index(valor)\n",
    "        termos += dic_termos[str(valor)] + '  '\n",
    "    \n",
    "    print('Tópico ' + str(topic) + ': ' + termos)\n",
    "    "
   ]
  },
  {
   "cell_type": "code",
   "execution_count": null,
   "metadata": {},
   "outputs": [],
   "source": []
  }
 ],
 "metadata": {
  "kernelspec": {
   "display_name": "Python 3",
   "language": "python",
   "name": "python3"
  },
  "language_info": {
   "codemirror_mode": {
    "name": "ipython",
    "version": 3
   },
   "file_extension": ".py",
   "mimetype": "text/x-python",
   "name": "python",
   "nbconvert_exporter": "python",
   "pygments_lexer": "ipython3",
   "version": "3.7.2"
  }
 },
 "nbformat": 4,
 "nbformat_minor": 2
}
