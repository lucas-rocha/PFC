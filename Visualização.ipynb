{
 "cells": [
  {
   "cell_type": "markdown",
   "metadata": {},
   "source": [
    "# Selecionando ego e carregando as matrizes\n",
    "\n",
    "Matrizes  \n",
    "X: termos x documentos  \n",
    "U: termos x tópicos  \n",
    "V: tópicos x documetos  \n",
    "\n",
    "X = U * V"
   ]
  },
  {
   "cell_type": "code",
   "execution_count": 8,
   "metadata": {},
   "outputs": [],
   "source": [
    "import numpy as np\n",
    "from sklearn.feature_extraction.text import CountVectorizer\n",
    "\n",
    "ego = 'teste'\n",
    "\n",
    "folder_X = \"X/\"\n",
    "folder_U = \"U/\"\n",
    "folder_V = \"V/\"\n",
    "\n",
    "# Carregando matriz X\n",
    "file = folder_X + ego + '.txt'\n",
    "f = open(file, 'r')\n",
    "\n",
    "lines = f.readlines()\n",
    "f.close()\n",
    "\n",
    "n_documentos = len(lines[0].split())\n",
    "n_termos = len(lines)\n",
    "\n",
    "X = []\n",
    "\n",
    "for i in range(0, n_termos):\n",
    "    X.append([])\n",
    "    colunas = lines[i].split()\n",
    "    for j in range(0, n_documentos):\n",
    "        X[i].append(int(colunas[j]))\n",
    "\n",
    "X = np.array(X)\n",
    "\n",
    "# Carregando matriz U\n",
    "file = folder_U + ego + '.txt'\n",
    "f = open(file, 'r')\n",
    "\n",
    "lines = f.readlines()\n",
    "f.close()\n",
    "\n",
    "n_topicos = len(lines[0].split())\n",
    "\n",
    "U = []\n",
    "\n",
    "for i in range(0, n_termos):\n",
    "    U.append([])\n",
    "    colunas = lines[i].split()\n",
    "    for j in range(0, n_topicos):\n",
    "        U[i].append(float(colunas[j]))\n",
    "\n",
    "U = np.array(U)\n",
    "\n",
    "# Carregando matriz V\n",
    "file = folder_V + ego +'.txt'\n",
    "f = open(file, 'r')\n",
    "\n",
    "lines = f.readlines()\n",
    "f.close()\n",
    "\n",
    "V = []\n",
    "\n",
    "for i in range(0, n_topicos):\n",
    "    V.append([])\n",
    "    colunas = lines[i].split()\n",
    "    for j in range(0, n_documentos):\n",
    "        V[i].append(float(colunas[j]))\n",
    "\n",
    "V = np.array(V)\n",
    "\n",
    "# Importanto dicionario de termos (mapeamento indice -> termo)\n",
    "import json\n",
    "file = 'Indices de Termos/' + ego + '.json'\n",
    "f = open(file, 'r')\n",
    "line = f.readline()\n",
    "f.close()\n",
    "dic_termos = json.loads(line)"
   ]
  },
  {
   "cell_type": "markdown",
   "metadata": {},
   "source": [
    "# Tópicos e termos\n",
    "\n",
    "Visualização dos Tópicos e seus K termos mais relevantes através da matriz U. "
   ]
  },
  {
   "cell_type": "code",
   "execution_count": 10,
   "metadata": {},
   "outputs": [
    {
     "name": "stdout",
     "output_type": "stream",
     "text": [
      "Tópico 0: E  D  F  B  I  A  H  G  C  \n",
      "Tópico 1: E  D  B  I  F  A  H  G  C  \n",
      "Tópico 2: E  F  A  I  D  H  B  C  G  \n",
      "Tópico 3: E  F  I  D  H  B  A  C  G  \n",
      "Tópico 4: E  F  I  D  A  B  H  C  G  \n",
      "Tópico 5: E  F  B  I  D  H  A  C  G  \n",
      "Tópico 6: E  D  F  B  H  I  A  G  C  \n",
      "Tópico 7: E  D  A  H  F  B  I  G  C  \n",
      "Tópico 8: E  H  F  D  B  A  I  C  G  \n",
      "Tópico 9: E  H  F  D  B  A  I  C  G  \n"
     ]
    }
   ],
   "source": [
    "K = 9\n",
    "Ut = U.T\n",
    "\n",
    "for topic, vector in enumerate(Ut):\n",
    "    termos = ''\n",
    "    aux = vector\n",
    "    for i in range(0,K):\n",
    "        #index = np.argmax(aux)\n",
    "        index = np.argmin(aux)\n",
    "        valor = aux[index]\n",
    "        aux = np.delete(aux, index)\n",
    "        valor = list(vector).index(valor)\n",
    "        termos += dic_termos[str(valor)] + '  '\n",
    "    \n",
    "    print('Tópico ' + str(topic) + ': ' + termos)\n",
    "    "
   ]
  },
  {
   "cell_type": "markdown",
   "metadata": {},
   "source": [
    "# Documentos e tópicos\n",
    "\n",
    "Visualização da classificação de cada documento através da matriz V. "
   ]
  },
  {
   "cell_type": "code",
   "execution_count": 11,
   "metadata": {},
   "outputs": [],
   "source": [
    "# Carregando classificacao\n",
    "Vt = V.T\n",
    "\n",
    "classificacao = []\n",
    "\n",
    "for d in Vt:\n",
    "    t = np.argmin(d)\n",
    "    classificacao.append(t)"
   ]
  },
  {
   "cell_type": "code",
   "execution_count": 12,
   "metadata": {},
   "outputs": [
    {
     "name": "stdout",
     "output_type": "stream",
     "text": [
      "[(2, 2), (1, 1), (0, 1)]\n"
     ]
    }
   ],
   "source": [
    "# Quantidade de documentos classificados por tópico\n",
    "import collections\n",
    "from operator import itemgetter\n",
    "\n",
    "contador = collections.Counter(classificacao)\n",
    "contador\n",
    "\n",
    "print(sorted(contador.items(), key = itemgetter(1), reverse=True))"
   ]
  },
  {
   "cell_type": "code",
   "execution_count": null,
   "metadata": {},
   "outputs": [],
   "source": []
  },
  {
   "cell_type": "code",
   "execution_count": 7,
   "metadata": {},
   "outputs": [
    {
     "data": {
      "text/plain": [
       "(373, 342)"
      ]
     },
     "execution_count": 7,
     "metadata": {},
     "output_type": "execute_result"
    }
   ],
   "source": [
    "X.shape\n",
    "#U.shape\n",
    "#V.shape"
   ]
  },
  {
   "cell_type": "code",
   "execution_count": 50,
   "metadata": {},
   "outputs": [],
   "source": [
    "from sklearn.decomposition import NMF\n",
    "\n",
    "V = np.random.rand(n_topicos, n_documentos)\n",
    "model = NMF(n_components=n_topicos, init='custom', random_state=0)\n",
    "W = model.fit_transform(X, W=U, H=V)\n",
    "\n",
    "\n",
    "output = open(ego + '.txt', 'w+')\n",
    "\n",
    "for i in range(0, len(W)):\n",
    "    for j in range(0, len(W[0])):\n",
    "        output.write(str(W[i][j]) + ' ')\n",
    "    output.write('\\n')\n",
    "output.close()"
   ]
  },
  {
   "cell_type": "code",
   "execution_count": 61,
   "metadata": {},
   "outputs": [],
   "source": [
    "import nimfa\n",
    "\n",
    "nmf = nimfa.Nmf(X, seed=None, W = U, H = V)\n",
    "nmf_fit = nmf()\n",
    "\n",
    "W = nmf_fit.basis()\n",
    "\n",
    "output = open(ego + '.txt', 'w+')\n",
    "\n",
    "for i in range(0, len(W)):\n",
    "    for j in range(0, len(W[0])):\n",
    "        output.write(str(W[i][j]) + ' ')\n",
    "    output.write('\\n')\n",
    "output.close()"
   ]
  }
 ],
 "metadata": {
  "kernelspec": {
   "display_name": "Python 3",
   "language": "python",
   "name": "python3"
  },
  "language_info": {
   "codemirror_mode": {
    "name": "ipython",
    "version": 3
   },
   "file_extension": ".py",
   "mimetype": "text/x-python",
   "name": "python",
   "nbconvert_exporter": "python",
   "pygments_lexer": "ipython3",
   "version": "3.7.2"
  }
 },
 "nbformat": 4,
 "nbformat_minor": 2
}
